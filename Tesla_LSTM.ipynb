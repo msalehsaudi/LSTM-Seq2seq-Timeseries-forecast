{
  "nbformat": 4,
  "nbformat_minor": 0,
  "metadata": {
    "accelerator": "GPU",
    "colab": {
      "name": "Tesla_LSTM.ipynb",
      "provenance": [],
      "collapsed_sections": [
        "KwFgaBsoNwR2",
        "njmybz8pMEhD",
        "DMu5ckRROP0j",
        "9eXukzcoMV0O",
        "yjfFPUV8m7fQ",
        "oA7NAfECM1Vi",
        "M8p3FHKampos",
        "zhBTWJm3me5W"
      ]
    },
    "kernelspec": {
      "display_name": "Python 3",
      "name": "python3"
    },
    "language_info": {
      "name": "python"
    }
  },
  "cells": [
    {
      "cell_type": "markdown",
      "source": [
        "# Table of Contents:\n",
        "\n",
        "\n",
        "1.   Loading the Data\n",
        "2.   Train and Test Split/ Data Processing\n",
        "3.   Choosing our model architecture\n",
        "4.   Building Model\n",
        "5.   Prediction\n",
        "6.   Evaluation\n",
        "7.   Visualization\n",
        "\n"
      ],
      "metadata": {
        "id": "KwFgaBsoNwR2"
      }
    },
    {
      "cell_type": "code",
      "source": [
        "pip install yfinance"
      ],
      "metadata": {
        "id": "KZKYuCC_8L7v",
        "colab": {
          "base_uri": "https://localhost:8080/"
        },
        "outputId": "f8a81ff4-a9aa-406c-af83-0d701e251f86"
      },
      "execution_count": 42,
      "outputs": [
        {
          "output_type": "stream",
          "name": "stdout",
          "text": [
            "Requirement already satisfied: yfinance in /usr/local/lib/python3.7/dist-packages (0.1.68)\n",
            "Requirement already satisfied: requests>=2.26 in /usr/local/lib/python3.7/dist-packages (from yfinance) (2.27.1)\n",
            "Requirement already satisfied: multitasking>=0.0.7 in /usr/local/lib/python3.7/dist-packages (from yfinance) (0.0.10)\n",
            "Requirement already satisfied: lxml>=4.5.1 in /usr/local/lib/python3.7/dist-packages (from yfinance) (4.7.1)\n",
            "Requirement already satisfied: numpy>=1.15 in /usr/local/lib/python3.7/dist-packages (from yfinance) (1.19.5)\n",
            "Requirement already satisfied: pandas>=0.24 in /usr/local/lib/python3.7/dist-packages (from yfinance) (1.1.5)\n",
            "Requirement already satisfied: pytz>=2017.2 in /usr/local/lib/python3.7/dist-packages (from pandas>=0.24->yfinance) (2018.9)\n",
            "Requirement already satisfied: python-dateutil>=2.7.3 in /usr/local/lib/python3.7/dist-packages (from pandas>=0.24->yfinance) (2.8.2)\n",
            "Requirement already satisfied: six>=1.5 in /usr/local/lib/python3.7/dist-packages (from python-dateutil>=2.7.3->pandas>=0.24->yfinance) (1.15.0)\n",
            "Requirement already satisfied: certifi>=2017.4.17 in /usr/local/lib/python3.7/dist-packages (from requests>=2.26->yfinance) (2021.10.8)\n",
            "Requirement already satisfied: idna<4,>=2.5 in /usr/local/lib/python3.7/dist-packages (from requests>=2.26->yfinance) (2.10)\n",
            "Requirement already satisfied: urllib3<1.27,>=1.21.1 in /usr/local/lib/python3.7/dist-packages (from requests>=2.26->yfinance) (1.24.3)\n",
            "Requirement already satisfied: charset-normalizer~=2.0.0 in /usr/local/lib/python3.7/dist-packages (from requests>=2.26->yfinance) (2.0.9)\n"
          ]
        }
      ]
    },
    {
      "cell_type": "code",
      "metadata": {
        "id": "wof1fkVrZei2"
      },
      "source": [
        "import pandas as pd\n",
        "import numpy as np\n",
        "import matplotlib.pyplot as plt\n",
        "import plotly.express as px # to plot the time series plot\n",
        "from sklearn import metrics # for the evaluation\n",
        "from sklearn.preprocessing import LabelEncoder,MinMaxScaler\n",
        "import tensorflow as tf \n",
        "import yfinance as yf"
      ],
      "execution_count": 43,
      "outputs": []
    },
    {
      "cell_type": "markdown",
      "source": [
        "## 1. Loading the Data\n",
        "The Tesla and Nasdaq data are up to 29-06-2021. Let’s take the close column for the stock prediction. We can use the same strategy."
      ],
      "metadata": {
        "id": "njmybz8pMEhD"
      }
    },
    {
      "cell_type": "code",
      "metadata": {
        "id": "j3X5Qyw5Zfru"
      },
      "source": [
        "# Download additional stock data, which is correlated to Tesla stock, after research we found that NASDAQ is very correlated\n",
        "\n",
        "tesla_df = yf.download(['TSLA'], \n",
        "                      start='2019-01-02', \n",
        "                      end='2021-06-30', \n",
        "                      progress=False).reset_index()\n",
        "nasdq_df = yf.download(['^IXIC'], \n",
        "                      start='2019-01-02', \n",
        "                      end='2021-06-30', \n",
        "                      progress=False).reset_index()\n",
        "\n",
        "\n",
        "# Events is a self made data for the major events and its effect on tesla stock over the years\n",
        "events = pd.read_excel('tesla_tweed_pre.xlsx', sheet_name='tesla_tweets')[['Date', 'accum_value']]\n",
        "nasdq_df.columns = ['Date', 'NSDQ-Open', 'NSDQ-High', 'NSDQ-Low', 'NSDQ-Close', 'NSDQ-Adj Close', 'NSDQ-Volume']\n",
        "tesla_df.columns = ['Date', 'tesla-Open', 'tesla-High', 'tesla-Low', 'tesla-Close', 'tesla-Adj Close', 'tesla-Volume']\n",
        "event_tesla_merge = pd.merge(tesla_df, events, how='left', on='Date')\n",
        "data = pd.merge(event_tesla_merge, nasdq_df, how='left', on='Date')\n",
        "data['accum_value']=data['accum_value'].fillna(0)\n",
        "\n",
        "# Data transformation\n",
        "def date_extraction(dataset):\n",
        "    dataset['Date'] = pd.to_datetime(dataset['Date'])\n",
        "    # dataset['Year'] = pd.DatetimeIndex(dataset['Date']).year\n",
        "    # dataset['Month'] = pd.DatetimeIndex(dataset['Date']).month\n",
        "    # dataset['Day'] = dataset.Date.dt.day\n",
        "    # dataset['DayOfWeek'] = dataset.Date.dt.dayofweek\n",
        "    # dataset['WeekOfYear'] = dataset.Date.dt.weekofyear\n",
        "    \n",
        "    # dataset['Series'] = np.arange(1,len(data)+1)\n",
        "date_extraction(data)\n",
        "full_dates = pd.DataFrame(pd.date_range(start = '2019-01-02', end = '2021-06-29', freq = 'D'), columns=['Date'])\n",
        "data = pd.merge(full_dates, data, how='left', on='Date').fillna(method='bfill')\n",
        "data = data.set_index('Date')\n",
        "data= data[['NSDQ-Close', 'NSDQ-Volume', 'accum_value', 'tesla-Volume','tesla-Close'] ]"
      ],
      "execution_count": 44,
      "outputs": []
    },
    {
      "cell_type": "markdown",
      "source": [
        "## 2. Train and Test Split/ Data Processing\n",
        "Whenever training Timeseries data we should divide the data differently we should train the data with the respective date.\n",
        "\n",
        "Always remember that in time-series data the one data is dependent on other data. The training size should be 65% of the total length of the data frame, the test size should be the difference between the length of the dataset and the training size."
      ],
      "metadata": {
        "id": "DMu5ckRROP0j"
      }
    },
    {
      "cell_type": "code",
      "metadata": {
        "colab": {
          "base_uri": "https://localhost:8080/"
        },
        "id": "rHDP2RJMNA_d",
        "outputId": "04c341c3-b9fa-4a38-b518-4b2d3c309976"
      },
      "source": [
        "train_df,test_df = data[:800], data[800:]  # 75% and 25%\n",
        "train_df.shape,test_df.shape"
      ],
      "execution_count": 45,
      "outputs": [
        {
          "output_type": "execute_result",
          "data": {
            "text/plain": [
              "((799, 5), (110, 5))"
            ]
          },
          "metadata": {},
          "execution_count": 45
        }
      ]
    },
    {
      "cell_type": "code",
      "metadata": {
        "id": "i0a_t7NnaXLy"
      },
      "source": [
        "X_data = data.copy()\n",
        "scaler = MinMaxScaler()\n",
        "X_data = pd.DataFrame(scaler.fit_transform(X_data))\n",
        "X_data.columns = data.columns"
      ],
      "execution_count": 46,
      "outputs": []
    },
    {
      "cell_type": "code",
      "metadata": {
        "id": "woJzCHcLOSfy"
      },
      "source": [
        "# For this case, let's assume that\n",
        "# Given past 25 days observation, forecast the next 15 days observations. \n",
        "n_past = 15\n",
        "n_future = 15 \n",
        "n_features = 5"
      ],
      "execution_count": 47,
      "outputs": []
    },
    {
      "cell_type": "code",
      "metadata": {
        "id": "5qjJdBYFaZcl"
      },
      "source": [
        "def split_series(series, n_past, n_future):\n",
        "  #\n",
        "  # n_past ==> no of past observations\n",
        "  #\n",
        "  # n_future ==> no of future observations \n",
        "  #\n",
        "  X, y = list(), list()\n",
        "  for window_start in range(len(series)):\n",
        "    past_end = window_start + n_past\n",
        "    future_end = past_end + n_future\n",
        "    if future_end > len(series):\n",
        "      break\n",
        "    # slicing the past and future parts of the window\n",
        "    past, future = series.iloc[window_start:past_end, :], series.iloc[past_end:future_end, :]\n",
        "    X.append(past)\n",
        "    y.append(future)\n",
        "  return np.array(X), np.array(y)"
      ],
      "execution_count": 48,
      "outputs": []
    },
    {
      "cell_type": "code",
      "metadata": {
        "id": "ggBhAow1OuCL",
        "colab": {
          "base_uri": "https://localhost:8080/"
        },
        "outputId": "933257cf-1e4a-4d90-f8a5-58400411ee76"
      },
      "source": [
        "train_df,test_df = X_data[0:800], X_data[800:]\n",
        "\n",
        "\n",
        "X_train, y_train = split_series(train_df,n_past, n_future)\n",
        "X_train = X_train.reshape((X_train.shape[0], X_train.shape[1],n_features))\n",
        "y_train = y_train.reshape((y_train.shape[0], y_train.shape[1], n_features))\n",
        "\n",
        "X_test, y_test = split_series(test_df,n_past, n_future)\n",
        "X_test = X_test.reshape((X_test.shape[0], X_test.shape[1],n_features))\n",
        "y_test = y_test.reshape((y_test.shape[0], y_test.shape[1], n_features))\n",
        "X_train.shape,y_train.shape, X_test.shape, y_test.shape"
      ],
      "execution_count": 49,
      "outputs": [
        {
          "output_type": "execute_result",
          "data": {
            "text/plain": [
              "((771, 15, 5), (771, 15, 5), (81, 15, 5), (81, 15, 5))"
            ]
          },
          "metadata": {},
          "execution_count": 49
        }
      ]
    },
    {
      "cell_type": "markdown",
      "source": [
        "## 3. Choosing our model \n",
        "LSTMs are widely used for sequence prediction problems and have proven to be extremely effective. The reason they work so well is that LSTM can store past important information and forget the information that is not.\n",
        "LSTM has three gates:\n",
        "\n",
        "*   The input gate: The input gate adds information to the cell state,\n",
        "*   The forget gate: It removes the information that is no longer required by the model\n",
        "*   The output gate: Output Gate at LSTM selects the information to be shown as output.\n",
        "\n",
        "\n",
        "\n",
        " \n",
        "\n",
        "While Implementing any LSTM, we should always reshape our X train in 3-D, add 1 the reason behind is the time step and the 1 is given to the LSTM."
      ],
      "metadata": {
        "id": "9eXukzcoMV0O"
      }
    },
    {
      "cell_type": "markdown",
      "source": [
        "**Model Architecture**\n",
        "\n",
        "E1D1 ==> Sequence to Sequence Model with one encoder layer and one decoder layer. \n",
        "\n",
        "E2D2 ==> Sequence to Sequence Model with two encoder layers and two decoder layers. "
      ],
      "metadata": {
        "id": "QvD19l2xMsr5"
      }
    },
    {
      "cell_type": "markdown",
      "source": [
        "## 4. Building model\n",
        "Building two LSTM model with different parameters to train"
      ],
      "metadata": {
        "id": "yjfFPUV8m7fQ"
      }
    },
    {
      "cell_type": "code",
      "metadata": {
        "colab": {
          "base_uri": "https://localhost:8080/"
        },
        "id": "dHoRd5hKO8QL",
        "outputId": "6d70165c-62a6-46c4-caf6-71c008f24562"
      },
      "source": [
        "# E1D1\n",
        "# n_features ==> no of features at each timestep in the data.\n",
        "#\n",
        "encoder_inputs = tf.keras.layers.Input(shape=(n_past, n_features))\n",
        "encoder_l1 = tf.keras.layers.LSTM(100, return_state=True)\n",
        "encoder_outputs1 = encoder_l1(encoder_inputs)\n",
        "encoder_states1 = encoder_outputs1[1:]\n",
        "#\n",
        "decoder_inputs = tf.keras.layers.RepeatVector(n_future)(encoder_outputs1[0])\n",
        "#\n",
        "decoder_l1 = tf.keras.layers.LSTM(100, return_sequences=True)(decoder_inputs,initial_state = encoder_states1)\n",
        "decoder_outputs1 = tf.keras.layers.TimeDistributed(tf.keras.layers.Dense(n_features))(decoder_l1)\n",
        "#\n",
        "model_e1d1 = tf.keras.models.Model(encoder_inputs,decoder_outputs1)\n",
        "#\n",
        "model_e1d1.summary()\n",
        "# E2D2\n",
        "# n_features ==> no of features at each timestep in the data.\n",
        "#\n",
        "encoder_inputs = tf.keras.layers.Input(shape=(n_past, n_features))\n",
        "encoder_l1 = tf.keras.layers.LSTM(100,return_sequences = True, return_state=True)\n",
        "encoder_outputs1 = encoder_l1(encoder_inputs)\n",
        "encoder_states1 = encoder_outputs1[1:]\n",
        "encoder_l2 = tf.keras.layers.LSTM(100, return_state=True)\n",
        "encoder_outputs2 = encoder_l2(encoder_outputs1[0])\n",
        "encoder_states2 = encoder_outputs2[1:]\n",
        "#\n",
        "decoder_inputs = tf.keras.layers.RepeatVector(n_future)(encoder_outputs2[0])\n",
        "#\n",
        "decoder_l1 = tf.keras.layers.LSTM(100, return_sequences=True)(decoder_inputs,initial_state = encoder_states1)\n",
        "decoder_l2 = tf.keras.layers.LSTM(100, return_sequences=True)(decoder_l1,initial_state = encoder_states2)\n",
        "decoder_outputs2 = tf.keras.layers.TimeDistributed(tf.keras.layers.Dense(n_features))(decoder_l2)\n",
        "#\n",
        "model_e2d2 = tf.keras.models.Model(encoder_inputs,decoder_outputs2)\n",
        "#\n",
        "model_e2d2.summary()"
      ],
      "execution_count": 50,
      "outputs": [
        {
          "output_type": "stream",
          "name": "stdout",
          "text": [
            "Model: \"model_4\"\n",
            "__________________________________________________________________________________________________\n",
            " Layer (type)                   Output Shape         Param #     Connected to                     \n",
            "==================================================================================================\n",
            " input_5 (InputLayer)           [(None, 15, 5)]      0           []                               \n",
            "                                                                                                  \n",
            " lstm_12 (LSTM)                 [(None, 100),        42400       ['input_5[0][0]']                \n",
            "                                 (None, 100),                                                     \n",
            "                                 (None, 100)]                                                     \n",
            "                                                                                                  \n",
            " repeat_vector_4 (RepeatVector)  (None, 15, 100)     0           ['lstm_12[0][0]']                \n",
            "                                                                                                  \n",
            " lstm_13 (LSTM)                 (None, 15, 100)      80400       ['repeat_vector_4[0][0]',        \n",
            "                                                                  'lstm_12[0][1]',                \n",
            "                                                                  'lstm_12[0][2]']                \n",
            "                                                                                                  \n",
            " time_distributed_4 (TimeDistri  (None, 15, 5)       505         ['lstm_13[0][0]']                \n",
            " buted)                                                                                           \n",
            "                                                                                                  \n",
            "==================================================================================================\n",
            "Total params: 123,305\n",
            "Trainable params: 123,305\n",
            "Non-trainable params: 0\n",
            "__________________________________________________________________________________________________\n",
            "Model: \"model_5\"\n",
            "__________________________________________________________________________________________________\n",
            " Layer (type)                   Output Shape         Param #     Connected to                     \n",
            "==================================================================================================\n",
            " input_6 (InputLayer)           [(None, 15, 5)]      0           []                               \n",
            "                                                                                                  \n",
            " lstm_14 (LSTM)                 [(None, 15, 100),    42400       ['input_6[0][0]']                \n",
            "                                 (None, 100),                                                     \n",
            "                                 (None, 100)]                                                     \n",
            "                                                                                                  \n",
            " lstm_15 (LSTM)                 [(None, 100),        80400       ['lstm_14[0][0]']                \n",
            "                                 (None, 100),                                                     \n",
            "                                 (None, 100)]                                                     \n",
            "                                                                                                  \n",
            " repeat_vector_5 (RepeatVector)  (None, 15, 100)     0           ['lstm_15[0][0]']                \n",
            "                                                                                                  \n",
            " lstm_16 (LSTM)                 (None, 15, 100)      80400       ['repeat_vector_5[0][0]',        \n",
            "                                                                  'lstm_14[0][1]',                \n",
            "                                                                  'lstm_14[0][2]']                \n",
            "                                                                                                  \n",
            " lstm_17 (LSTM)                 (None, 15, 100)      80400       ['lstm_16[0][0]',                \n",
            "                                                                  'lstm_15[0][1]',                \n",
            "                                                                  'lstm_15[0][2]']                \n",
            "                                                                                                  \n",
            " time_distributed_5 (TimeDistri  (None, 15, 5)       505         ['lstm_17[0][0]']                \n",
            " buted)                                                                                           \n",
            "                                                                                                  \n",
            "==================================================================================================\n",
            "Total params: 284,105\n",
            "Trainable params: 284,105\n",
            "Non-trainable params: 0\n",
            "__________________________________________________________________________________________________\n"
          ]
        }
      ]
    },
    {
      "cell_type": "code",
      "metadata": {
        "id": "QHxt9zcRO8Vk"
      },
      "source": [
        "reduce_lr = tf.keras.callbacks.LearningRateScheduler(lambda x: 1e-3 * 0.90 ** x)\n",
        "\n",
        "model_e1d1.compile(optimizer=tf.keras.optimizers.Adam(), loss=tf.keras.losses.Huber())\n",
        "history_e1d1=model_e1d1.fit(X_train,y_train,epochs=50,validation_data=(X_test,y_test),batch_size=32,verbose=0,callbacks=[reduce_lr])\n",
        "\n",
        "model_e2d2.compile(optimizer=tf.keras.optimizers.Adam(), loss=tf.keras.losses.Huber())\n",
        "history_e2d2=model_e2d2.fit(X_train,y_train,epochs=50,validation_data=(X_test,y_test),batch_size=32,verbose=0,callbacks=[reduce_lr])\n"
      ],
      "execution_count": 51,
      "outputs": []
    },
    {
      "cell_type": "code",
      "metadata": {
        "colab": {
          "base_uri": "https://localhost:8080/",
          "height": 295
        },
        "id": "91qvQ1GKO8Xr",
        "outputId": "5878a7b8-60ef-4f39-ee56-d8af0d7a190d"
      },
      "source": [
        "plt.plot(history_e1d1.history['loss'])\n",
        "plt.plot(history_e1d1.history['val_loss'])\n",
        "plt.title(\"E1D1 Model Loss\")\n",
        "plt.xlabel('Epochs')\n",
        "plt.ylabel('Loss')\n",
        "plt.legend(['Train', 'Valid'])\n",
        "plt.show()"
      ],
      "execution_count": 52,
      "outputs": [
        {
          "output_type": "display_data",
          "data": {
            "image/png": "[encoded data removed]",
            "text/plain": [
              "<Figure size 432x288 with 1 Axes>"
            ]
          },
          "metadata": {
            "needs_background": "light"
          }
        }
      ]
    },
    {
      "cell_type": "code",
      "metadata": {
        "colab": {
          "base_uri": "https://localhost:8080/",
          "height": 295
        },
        "id": "svg83JVEO8Z0",
        "outputId": "b4d3a60b-b466-4c71-8850-a76b0573c210"
      },
      "source": [
        "plt.plot(history_e2d2.history['loss'])\n",
        "plt.plot(history_e2d2.history['val_loss'])\n",
        "plt.title(\"E2D2 Model Loss\")\n",
        "plt.xlabel('Epochs')\n",
        "plt.ylabel('Loss')\n",
        "plt.legend(['Train', 'Valid'])\n",
        "plt.show()"
      ],
      "execution_count": 53,
      "outputs": [
        {
          "output_type": "display_data",
          "data": {
            "image/png": "[encoded data removed]",
            "text/plain": [
              "<Figure size 432x288 with 1 Axes>"
            ]
          },
          "metadata": {
            "needs_background": "light"
          }
        }
      ]
    },
    {
      "cell_type": "markdown",
      "source": [
        "## 5. Prediction\n",
        "Predict both the X_train and the X_test, now let’s scaler inverse transform because I want to see the root mean square performance."
      ],
      "metadata": {
        "id": "oA7NAfECM1Vi"
      }
    },
    {
      "cell_type": "code",
      "metadata": {
        "id": "s2SS68bTgr7t",
        "colab": {
          "base_uri": "https://localhost:8080/"
        },
        "outputId": "1f476889-5d33-4f5e-f0d7-cf8779249e07"
      },
      "source": [
        "pred_e1d1=model_e1d1.predict(X_test)\n",
        "pred_e2d2=model_e2d2.predict(X_test)"
      ],
      "execution_count": 54,
      "outputs": [
        {
          "output_type": "stream",
          "name": "stdout",
          "text": [
            "WARNING:tensorflow:5 out of the last 9 calls to <function Model.make_predict_function.<locals>.predict_function at 0x7fc5b0779e60> triggered tf.function retracing. Tracing is expensive and the excessive number of tracings could be due to (1) creating @tf.function repeatedly in a loop, (2) passing tensors with different shapes, (3) passing Python objects instead of tensors. For (1), please define your @tf.function outside of the loop. For (2), @tf.function has experimental_relax_shapes=True option that relaxes argument shapes that can avoid unnecessary retracing. For (3), please refer to https://www.tensorflow.org/guide/function#controlling_retracing and https://www.tensorflow.org/api_docs/python/tf/function for  more details.\n",
            "WARNING:tensorflow:6 out of the last 12 calls to <function Model.make_predict_function.<locals>.predict_function at 0x7fc5b844bf80> triggered tf.function retracing. Tracing is expensive and the excessive number of tracings could be due to (1) creating @tf.function repeatedly in a loop, (2) passing tensors with different shapes, (3) passing Python objects instead of tensors. For (1), please define your @tf.function outside of the loop. For (2), @tf.function has experimental_relax_shapes=True option that relaxes argument shapes that can avoid unnecessary retracing. For (3), please refer to https://www.tensorflow.org/guide/function#controlling_retracing and https://www.tensorflow.org/api_docs/python/tf/function for  more details.\n"
          ]
        }
      ]
    },
    {
      "cell_type": "markdown",
      "source": [
        "## 6. Evaluation\n",
        "\n",
        "\n",
        "1.   Tables with the ground truth, model1, and model 2 values\n",
        "2.   Evaluation metrics (MAPE, MSE, RMSE)\n",
        "\n"
      ],
      "metadata": {
        "id": "M8p3FHKampos"
      }
    },
    {
      "cell_type": "code",
      "metadata": {
        "id": "kq5VyW3Yk1uO",
        "colab": {
          "base_uri": "https://localhost:8080/",
          "height": 551
        },
        "outputId": "f2f3e06b-a3ae-420a-aba3-14ee10ed154f"
      },
      "source": [
        "truth = pd.DataFrame(scaler.inverse_transform(y_test[-1,:,:])[:,-1], columns=['tesla-Close'])\n",
        "predict1 = pd.DataFrame(scaler.inverse_transform(pred_e1d1[-1,:,:])[:,-1], columns=['Label1'])\n",
        "predict2 = pd.DataFrame(scaler.inverse_transform(pred_e2d2[-1,:,:])[:,-1], columns=['Label2'])\n",
        "predict = pd.merge(predict1, predict2, right_index=True, left_index=True)\n",
        "compare = pd.merge(truth, predict, right_index=True, left_index=True)\n",
        "predict_date = pd.DataFrame(pd.date_range(start = '2021-06-15', end = '2021-06-29', freq = 'D'), columns=['Date'])\n",
        "compare = pd.merge(compare, predict_date, right_index=True, left_index=True)\n",
        "compare = compare.set_index('Date')\n",
        "compare"
      ],
      "execution_count": 55,
      "outputs": [
        {
          "output_type": "execute_result",
          "data": {
            "text/html": [
              "\n",
              "  <div id=\"df-2dcdd0ca-bfb6-4616-80c3-a85a0ffea696\">\n",
              "    <div class=\"colab-df-container\">\n",
              "      <div>\n",
              "<style scoped>\n",
              "    .dataframe tbody tr th:only-of-type {\n",
              "        vertical-align: middle;\n",
              "    }\n",
              "\n",
              "    .dataframe tbody tr th {\n",
              "        vertical-align: top;\n",
              "    }\n",
              "\n",
              "    .dataframe thead th {\n",
              "        text-align: right;\n",
              "    }\n",
              "</style>\n",
              "<table border=\"1\" class=\"dataframe\">\n",
              "  <thead>\n",
              "    <tr style=\"text-align: right;\">\n",
              "      <th></th>\n",
              "      <th>tesla-Close</th>\n",
              "      <th>Label1</th>\n",
              "      <th>Label2</th>\n",
              "    </tr>\n",
              "    <tr>\n",
              "      <th>Date</th>\n",
              "      <th></th>\n",
              "      <th></th>\n",
              "      <th></th>\n",
              "    </tr>\n",
              "  </thead>\n",
              "  <tbody>\n",
              "    <tr>\n",
              "      <th>2021-06-15</th>\n",
              "      <td>599.359985</td>\n",
              "      <td>657.311279</td>\n",
              "      <td>646.105408</td>\n",
              "    </tr>\n",
              "    <tr>\n",
              "      <th>2021-06-16</th>\n",
              "      <td>604.869995</td>\n",
              "      <td>652.549438</td>\n",
              "      <td>648.638062</td>\n",
              "    </tr>\n",
              "    <tr>\n",
              "      <th>2021-06-17</th>\n",
              "      <td>616.599976</td>\n",
              "      <td>644.120728</td>\n",
              "      <td>651.728699</td>\n",
              "    </tr>\n",
              "    <tr>\n",
              "      <th>2021-06-18</th>\n",
              "      <td>623.309998</td>\n",
              "      <td>637.682800</td>\n",
              "      <td>655.322327</td>\n",
              "    </tr>\n",
              "    <tr>\n",
              "      <th>2021-06-19</th>\n",
              "      <td>620.830017</td>\n",
              "      <td>633.665588</td>\n",
              "      <td>659.262634</td>\n",
              "    </tr>\n",
              "    <tr>\n",
              "      <th>2021-06-20</th>\n",
              "      <td>620.830017</td>\n",
              "      <td>631.570801</td>\n",
              "      <td>663.385620</td>\n",
              "    </tr>\n",
              "    <tr>\n",
              "      <th>2021-06-21</th>\n",
              "      <td>620.830017</td>\n",
              "      <td>630.799683</td>\n",
              "      <td>667.509216</td>\n",
              "    </tr>\n",
              "    <tr>\n",
              "      <th>2021-06-22</th>\n",
              "      <td>623.710022</td>\n",
              "      <td>630.855347</td>\n",
              "      <td>671.461243</td>\n",
              "    </tr>\n",
              "    <tr>\n",
              "      <th>2021-06-23</th>\n",
              "      <td>656.570007</td>\n",
              "      <td>631.375610</td>\n",
              "      <td>675.104431</td>\n",
              "    </tr>\n",
              "    <tr>\n",
              "      <th>2021-06-24</th>\n",
              "      <td>679.820007</td>\n",
              "      <td>632.113159</td>\n",
              "      <td>678.347473</td>\n",
              "    </tr>\n",
              "    <tr>\n",
              "      <th>2021-06-25</th>\n",
              "      <td>671.869995</td>\n",
              "      <td>632.910767</td>\n",
              "      <td>681.142456</td>\n",
              "    </tr>\n",
              "    <tr>\n",
              "      <th>2021-06-26</th>\n",
              "      <td>688.719971</td>\n",
              "      <td>633.675842</td>\n",
              "      <td>683.482056</td>\n",
              "    </tr>\n",
              "    <tr>\n",
              "      <th>2021-06-27</th>\n",
              "      <td>688.719971</td>\n",
              "      <td>634.358704</td>\n",
              "      <td>685.388000</td>\n",
              "    </tr>\n",
              "    <tr>\n",
              "      <th>2021-06-28</th>\n",
              "      <td>688.719971</td>\n",
              "      <td>634.938660</td>\n",
              "      <td>686.899231</td>\n",
              "    </tr>\n",
              "    <tr>\n",
              "      <th>2021-06-29</th>\n",
              "      <td>680.760010</td>\n",
              "      <td>635.413391</td>\n",
              "      <td>688.066040</td>\n",
              "    </tr>\n",
              "  </tbody>\n",
              "</table>\n",
              "</div>\n",
              "      <button class=\"colab-df-convert\" onclick=\"convertToInteractive('df-2dcdd0ca-bfb6-4616-80c3-a85a0ffea696')\"\n",
              "              title=\"Convert this dataframe to an interactive table.\"\n",
              "              style=\"display:none;\">\n",
              "        \n",
              "  <svg xmlns=\"http://www.w3.org/2000/svg\" height=\"24px\"viewBox=\"0 0 24 24\"\n",
              "       width=\"24px\">\n",
              "    <path d=\"M0 0h24v24H0V0z\" fill=\"none\"/>\n",
              "    <path d=\"M18.56 5.44l.94 2.06.94-2.06 2.06-.94-2.06-.94-.94-2.06-.94 2.06-2.06.94zm-11 1L8.5 8.5l.94-2.06 2.06-.94-2.06-.94L8.5 2.5l-.94 2.06-2.06.94zm10 10l.94 2.06.94-2.06 2.06-.94-2.06-.94-.94-2.06-.94 2.06-2.06.94z\"/><path d=\"M17.41 7.96l-1.37-1.37c-.4-.4-.92-.59-1.43-.59-.52 0-1.04.2-1.43.59L10.3 9.45l-7.72 7.72c-.78.78-.78 2.05 0 2.83L4 21.41c.39.39.9.59 1.41.59.51 0 1.02-.2 1.41-.59l7.78-7.78 2.81-2.81c.8-.78.8-2.07 0-2.86zM5.41 20L4 18.59l7.72-7.72 1.47 1.35L5.41 20z\"/>\n",
              "  </svg>\n",
              "      </button>\n",
              "      \n",
              "  <style>\n",
              "    .colab-df-container {\n",
              "      display:flex;\n",
              "      flex-wrap:wrap;\n",
              "      gap: 12px;\n",
              "    }\n",
              "\n",
              "    .colab-df-convert {\n",
              "      background-color: #E8F0FE;\n",
              "      border: none;\n",
              "      border-radius: 50%;\n",
              "      cursor: pointer;\n",
              "      display: none;\n",
              "      fill: #1967D2;\n",
              "      height: 32px;\n",
              "      padding: 0 0 0 0;\n",
              "      width: 32px;\n",
              "    }\n",
              "\n",
              "    .colab-df-convert:hover {\n",
              "      background-color: #E2EBFA;\n",
              "      box-shadow: 0px 1px 2px rgba(60, 64, 67, 0.3), 0px 1px 3px 1px rgba(60, 64, 67, 0.15);\n",
              "      fill: #174EA6;\n",
              "    }\n",
              "\n",
              "    [theme=dark] .colab-df-convert {\n",
              "      background-color: #3B4455;\n",
              "      fill: #D2E3FC;\n",
              "    }\n",
              "\n",
              "    [theme=dark] .colab-df-convert:hover {\n",
              "      background-color: #434B5C;\n",
              "      box-shadow: 0px 1px 3px 1px rgba(0, 0, 0, 0.15);\n",
              "      filter: drop-shadow(0px 1px 2px rgba(0, 0, 0, 0.3));\n",
              "      fill: #FFFFFF;\n",
              "    }\n",
              "  </style>\n",
              "\n",
              "      <script>\n",
              "        const buttonEl =\n",
              "          document.querySelector('#df-2dcdd0ca-bfb6-4616-80c3-a85a0ffea696 button.colab-df-convert');\n",
              "        buttonEl.style.display =\n",
              "          google.colab.kernel.accessAllowed ? 'block' : 'none';\n",
              "\n",
              "        async function convertToInteractive(key) {\n",
              "          const element = document.querySelector('#df-2dcdd0ca-bfb6-4616-80c3-a85a0ffea696');\n",
              "          const dataTable =\n",
              "            await google.colab.kernel.invokeFunction('convertToInteractive',\n",
              "                                                     [key], {});\n",
              "          if (!dataTable) return;\n",
              "\n",
              "          const docLinkHtml = 'Like what you see? Visit the ' +\n",
              "            '<a target=\"_blank\" href=https://colab.research.google.com/notebooks/data_table.ipynb>data table notebook</a>'\n",
              "            + ' to learn more about interactive tables.';\n",
              "          element.innerHTML = '';\n",
              "          dataTable['output_type'] = 'display_data';\n",
              "          await google.colab.output.renderOutput(dataTable, element);\n",
              "          const docLink = document.createElement('div');\n",
              "          docLink.innerHTML = docLinkHtml;\n",
              "          element.appendChild(docLink);\n",
              "        }\n",
              "      </script>\n",
              "    </div>\n",
              "  </div>\n",
              "  "
            ],
            "text/plain": [
              "            tesla-Close      Label1      Label2\n",
              "Date                                           \n",
              "2021-06-15   599.359985  657.311279  646.105408\n",
              "2021-06-16   604.869995  652.549438  648.638062\n",
              "2021-06-17   616.599976  644.120728  651.728699\n",
              "2021-06-18   623.309998  637.682800  655.322327\n",
              "2021-06-19   620.830017  633.665588  659.262634\n",
              "2021-06-20   620.830017  631.570801  663.385620\n",
              "2021-06-21   620.830017  630.799683  667.509216\n",
              "2021-06-22   623.710022  630.855347  671.461243\n",
              "2021-06-23   656.570007  631.375610  675.104431\n",
              "2021-06-24   679.820007  632.113159  678.347473\n",
              "2021-06-25   671.869995  632.910767  681.142456\n",
              "2021-06-26   688.719971  633.675842  683.482056\n",
              "2021-06-27   688.719971  634.358704  685.388000\n",
              "2021-06-28   688.719971  634.938660  686.899231\n",
              "2021-06-29   680.760010  635.413391  688.066040"
            ]
          },
          "metadata": {},
          "execution_count": 55
        }
      ]
    },
    {
      "cell_type": "code",
      "source": [
        "compare.to_csv('LSTM.csv')"
      ],
      "metadata": {
        "id": "8ivRciwYITPi"
      },
      "execution_count": 56,
      "outputs": []
    },
    {
      "cell_type": "markdown",
      "source": [
        ""
      ],
      "metadata": {
        "id": "L7d1zXv1mnrr"
      }
    },
    {
      "cell_type": "code",
      "source": [
        "from sklearn.metrics import mean_squared_error\n",
        "from sklearn.metrics import mean_absolute_error\n",
        "from sklearn.metrics import mean_absolute_percentage_error\n",
        "\n",
        "\n",
        "mape_score = mean_absolute_percentage_error(compare['tesla-Close'], compare.Label1.values)\n",
        "mae_score = mean_absolute_error(compare['tesla-Close'], compare.Label1.values)\n",
        "rmse_score = mean_squared_error(compare['tesla-Close'], compare.Label1.values, squared=False)\n",
        "\n",
        "print('LSTM 1 model MAPE is: {}%'.format(round((mape_score*100),2)))\n",
        "print('LSTM 1 model MAE is: {}'.format(round(mae_score, 2)))\n",
        "print('LSTM 1 model RMSE is: {}'.format(round(rmse_score)))"
      ],
      "metadata": {
        "colab": {
          "base_uri": "https://localhost:8080/"
        },
        "id": "QXnSb2hPE0Gx",
        "outputId": "e04b8338-a1f2-4da1-c2bf-752c2089acba"
      },
      "execution_count": 61,
      "outputs": [
        {
          "output_type": "stream",
          "name": "stdout",
          "text": [
            "LSTM 1 model MAPE is: 5.19%\n",
            "LSTM 1 model MAE is: 33.91\n",
            "LSTM 1 model RMSE is: 39\n"
          ]
        }
      ]
    },
    {
      "cell_type": "code",
      "source": [
        "from sklearn.metrics import mean_squared_error\n",
        "from sklearn.metrics import mean_absolute_error\n",
        "from sklearn.metrics import mean_absolute_percentage_error\n",
        "\n",
        "\n",
        "mape_score2 = mean_absolute_percentage_error(compare['tesla-Close'], compare.Label2.values)\n",
        "mae_score2 = mean_absolute_error(compare['tesla-Close'], compare.Label2.values)\n",
        "rmse_score2 = mean_squared_error(compare['tesla-Close'], compare.Label2.values,  squared=False)\n",
        "\n",
        "print('LSTM 2 model MAPE is: {}%'.format(round((mape_score2*100),2)))\n",
        "print('LSTM 2 model MAE is: {}'.format(round(mae_score2, 2)))\n",
        "print('LSTM 2 model RMSE is: {}'.format(round(rmse_score2)))"
      ],
      "metadata": {
        "colab": {
          "base_uri": "https://localhost:8080/"
        },
        "id": "h79bm3kRFi4r",
        "outputId": "70a890c6-c450-4257-fe19-538a760bdd8f"
      },
      "execution_count": 62,
      "outputs": [
        {
          "output_type": "stream",
          "name": "stdout",
          "text": [
            "LSTM 2 model MAPE is: 4.07%\n",
            "LSTM 2 model MAE is: 25.34\n",
            "LSTM 2 model RMSE is: 31\n"
          ]
        }
      ]
    },
    {
      "cell_type": "code",
      "source": [
        "evaluation = pd.DataFrame({'LSTM1': [round((mape_score*100),2), round(mae_score, 2),round(rmse_score) ], \n",
        "              'LSTM2': [round((mape_score2*100),2), round(mae_score2, 2),round(rmse_score2) ]}, index=['MAPE', 'MAE', 'RMSE'])\n",
        "\n",
        "evaluation.to_csv('evaluation_lstm.csv')\n",
        "evaluation"
      ],
      "metadata": {
        "colab": {
          "base_uri": "https://localhost:8080/",
          "height": 143
        },
        "id": "lvmVL1PLimWp",
        "outputId": "a04ca7fd-2aa3-403f-86bf-fff4c672786d"
      },
      "execution_count": 65,
      "outputs": [
        {
          "output_type": "execute_result",
          "data": {
            "text/html": [
              "\n",
              "  <div id=\"df-0318fdea-fc53-498a-be50-18e5f6ac7174\">\n",
              "    <div class=\"colab-df-container\">\n",
              "      <div>\n",
              "<style scoped>\n",
              "    .dataframe tbody tr th:only-of-type {\n",
              "        vertical-align: middle;\n",
              "    }\n",
              "\n",
              "    .dataframe tbody tr th {\n",
              "        vertical-align: top;\n",
              "    }\n",
              "\n",
              "    .dataframe thead th {\n",
              "        text-align: right;\n",
              "    }\n",
              "</style>\n",
              "<table border=\"1\" class=\"dataframe\">\n",
              "  <thead>\n",
              "    <tr style=\"text-align: right;\">\n",
              "      <th></th>\n",
              "      <th>LSTM1</th>\n",
              "      <th>LSTM2</th>\n",
              "    </tr>\n",
              "  </thead>\n",
              "  <tbody>\n",
              "    <tr>\n",
              "      <th>MAPE</th>\n",
              "      <td>5.19</td>\n",
              "      <td>4.07</td>\n",
              "    </tr>\n",
              "    <tr>\n",
              "      <th>MAE</th>\n",
              "      <td>33.91</td>\n",
              "      <td>25.34</td>\n",
              "    </tr>\n",
              "    <tr>\n",
              "      <th>RMSE</th>\n",
              "      <td>39.00</td>\n",
              "      <td>31.00</td>\n",
              "    </tr>\n",
              "  </tbody>\n",
              "</table>\n",
              "</div>\n",
              "      <button class=\"colab-df-convert\" onclick=\"convertToInteractive('df-0318fdea-fc53-498a-be50-18e5f6ac7174')\"\n",
              "              title=\"Convert this dataframe to an interactive table.\"\n",
              "              style=\"display:none;\">\n",
              "        \n",
              "  <svg xmlns=\"http://www.w3.org/2000/svg\" height=\"24px\"viewBox=\"0 0 24 24\"\n",
              "       width=\"24px\">\n",
              "    <path d=\"M0 0h24v24H0V0z\" fill=\"none\"/>\n",
              "    <path d=\"M18.56 5.44l.94 2.06.94-2.06 2.06-.94-2.06-.94-.94-2.06-.94 2.06-2.06.94zm-11 1L8.5 8.5l.94-2.06 2.06-.94-2.06-.94L8.5 2.5l-.94 2.06-2.06.94zm10 10l.94 2.06.94-2.06 2.06-.94-2.06-.94-.94-2.06-.94 2.06-2.06.94z\"/><path d=\"M17.41 7.96l-1.37-1.37c-.4-.4-.92-.59-1.43-.59-.52 0-1.04.2-1.43.59L10.3 9.45l-7.72 7.72c-.78.78-.78 2.05 0 2.83L4 21.41c.39.39.9.59 1.41.59.51 0 1.02-.2 1.41-.59l7.78-7.78 2.81-2.81c.8-.78.8-2.07 0-2.86zM5.41 20L4 18.59l7.72-7.72 1.47 1.35L5.41 20z\"/>\n",
              "  </svg>\n",
              "      </button>\n",
              "      \n",
              "  <style>\n",
              "    .colab-df-container {\n",
              "      display:flex;\n",
              "      flex-wrap:wrap;\n",
              "      gap: 12px;\n",
              "    }\n",
              "\n",
              "    .colab-df-convert {\n",
              "      background-color: #E8F0FE;\n",
              "      border: none;\n",
              "      border-radius: 50%;\n",
              "      cursor: pointer;\n",
              "      display: none;\n",
              "      fill: #1967D2;\n",
              "      height: 32px;\n",
              "      padding: 0 0 0 0;\n",
              "      width: 32px;\n",
              "    }\n",
              "\n",
              "    .colab-df-convert:hover {\n",
              "      background-color: #E2EBFA;\n",
              "      box-shadow: 0px 1px 2px rgba(60, 64, 67, 0.3), 0px 1px 3px 1px rgba(60, 64, 67, 0.15);\n",
              "      fill: #174EA6;\n",
              "    }\n",
              "\n",
              "    [theme=dark] .colab-df-convert {\n",
              "      background-color: #3B4455;\n",
              "      fill: #D2E3FC;\n",
              "    }\n",
              "\n",
              "    [theme=dark] .colab-df-convert:hover {\n",
              "      background-color: #434B5C;\n",
              "      box-shadow: 0px 1px 3px 1px rgba(0, 0, 0, 0.15);\n",
              "      filter: drop-shadow(0px 1px 2px rgba(0, 0, 0, 0.3));\n",
              "      fill: #FFFFFF;\n",
              "    }\n",
              "  </style>\n",
              "\n",
              "      <script>\n",
              "        const buttonEl =\n",
              "          document.querySelector('#df-0318fdea-fc53-498a-be50-18e5f6ac7174 button.colab-df-convert');\n",
              "        buttonEl.style.display =\n",
              "          google.colab.kernel.accessAllowed ? 'block' : 'none';\n",
              "\n",
              "        async function convertToInteractive(key) {\n",
              "          const element = document.querySelector('#df-0318fdea-fc53-498a-be50-18e5f6ac7174');\n",
              "          const dataTable =\n",
              "            await google.colab.kernel.invokeFunction('convertToInteractive',\n",
              "                                                     [key], {});\n",
              "          if (!dataTable) return;\n",
              "\n",
              "          const docLinkHtml = 'Like what you see? Visit the ' +\n",
              "            '<a target=\"_blank\" href=https://colab.research.google.com/notebooks/data_table.ipynb>data table notebook</a>'\n",
              "            + ' to learn more about interactive tables.';\n",
              "          element.innerHTML = '';\n",
              "          dataTable['output_type'] = 'display_data';\n",
              "          await google.colab.output.renderOutput(dataTable, element);\n",
              "          const docLink = document.createElement('div');\n",
              "          docLink.innerHTML = docLinkHtml;\n",
              "          element.appendChild(docLink);\n",
              "        }\n",
              "      </script>\n",
              "    </div>\n",
              "  </div>\n",
              "  "
            ],
            "text/plain": [
              "      LSTM1  LSTM2\n",
              "MAPE   5.19   4.07\n",
              "MAE   33.91  25.34\n",
              "RMSE  39.00  31.00"
            ]
          },
          "metadata": {},
          "execution_count": 65
        }
      ]
    },
    {
      "cell_type": "markdown",
      "source": [
        "## 7. Visualization\n",
        "Drawings the expected line curves for both models vs the ground truth"
      ],
      "metadata": {
        "id": "zhBTWJm3me5W"
      }
    },
    {
      "cell_type": "code",
      "source": [
        "plt.figure(figsize=(16,6))\n",
        "plt.plot(compare[['tesla-Close', 'Label1', 'Label2']], linewidth=2)\n",
        "plt.legend(['Truth', 'Label1', 'Label2'], loc='lower right')\n",
        "plt.show()"
      ],
      "metadata": {
        "colab": {
          "base_uri": "https://localhost:8080/",
          "height": 373
        },
        "id": "4ab0uFhXGx8A",
        "outputId": "08d1dec3-14ee-4692-cf43-84658f3dde23"
      },
      "execution_count": 60,
      "outputs": [
        {
          "output_type": "display_data",
          "data": {
            "image/png": "[encoded data removed]",
            "text/plain": [
              "<Figure size 1152x432 with 1 Axes>"
            ]
          },
          "metadata": {
            "needs_background": "light"
          }
        }
      ]
    },
    {
      "cell_type": "markdown",
      "source": [
        "\n",
        "Blue indicates the True data\n",
        "\n",
        "Orange indicates the first prediction data\n",
        "\n",
        "Green indicates the second prediction data\n"
      ],
      "metadata": {
        "id": "NgZg-WtfNBAY"
      }
    },
    {
      "cell_type": "code",
      "source": [
        ""
      ],
      "metadata": {
        "id": "BpZ3O7OYmV1F"
      },
      "execution_count": null,
      "outputs": []
    }
  ]
}